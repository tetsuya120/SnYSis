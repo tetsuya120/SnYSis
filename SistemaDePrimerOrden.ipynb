{
 "cells": [
  {
   "cell_type": "code",
   "execution_count": 3,
   "metadata": {},
   "outputs": [],
   "source": [
    "import numpy as np\n",
    "import matplotlib.pyplot as plt\n",
    "import sounddevice as sd\n",
    "%matplotlib inline"
   ]
  },
  {
   "cell_type": "code",
   "execution_count": 5,
   "metadata": {},
   "outputs": [],
   "source": [
    "def u(t):         #escalon unitario\n",
    "    return (t>=0)*1.0\n",
    "def Π(t,τ):       #puerta\n",
    "    return u(t+τ/2)-u(t-τ/2)\n",
    "def r(t):         #rampa\n",
    "    return t*u(t)\n",
    "def rE(t,RC):     #respuesta al escalon\n",
    "    return (1-np.exp(-t/RC))*u(t)\n",
    "def rP(t,τ,RC):   #respuesta a la puerta \n",
    "    return rE(t,RC)-rE(t-τ,RC)*t"
   ]
  },
  {
   "cell_type": "code",
   "execution_count": 8,
   "metadata": {},
   "outputs": [],
   "source": [
    "def trePulso(fo,duty,Npuntos,Nper):\n",
    "    To=1/fo\n",
    "    τ=duty*To\n",
    "    t=np.linspace(0,To,Npuntos)\n",
    "    base=Π(t-τ/2,τ)\n",
    "    Cn=np.ones((1,Nper))\n",
    "    y=base*Cn\n",
    "    return y"
   ]
  },
  {
   "cell_type": "code",
   "execution_count": 9,
   "metadata": {},
   "outputs": [],
   "source": [
    "t=np.linspace(0,20/100,20*50)"
   ]
  },
  {
   "cell_type": "code",
   "execution_count": 13,
   "metadata": {},
   "outputs": [],
   "source": [
    "y=trePulso(100,0.5,20,20)"
   ]
  },
  {
   "cell_type": "code",
   "execution_count": 14,
   "metadata": {},
   "outputs": [
    {
     "data": {
      "text/plain": [
       "(1, 20)"
      ]
     },
     "execution_count": 14,
     "metadata": {},
     "output_type": "execute_result"
    }
   ],
   "source": [
    "y.shape"
   ]
  },
  {
   "cell_type": "code",
   "execution_count": null,
   "metadata": {},
   "outputs": [],
   "source": []
  }
 ],
 "metadata": {
  "kernelspec": {
   "display_name": "Python 3",
   "language": "python",
   "name": "python3"
  },
  "language_info": {
   "codemirror_mode": {
    "name": "ipython",
    "version": 3
   },
   "file_extension": ".py",
   "mimetype": "text/x-python",
   "name": "python",
   "nbconvert_exporter": "python",
   "pygments_lexer": "ipython3",
   "version": "3.7.3"
  }
 },
 "nbformat": 4,
 "nbformat_minor": 2
}
